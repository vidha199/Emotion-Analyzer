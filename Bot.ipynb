{
 "cells": [
  {
   "cell_type": "code",
   "execution_count": null,
   "id": "0f382ac9-5100-40bf-935c-c8caf129125c",
   "metadata": {},
   "outputs": [],
   "source": [
    "import requests\n",
    "\n",
    "# API endpoint \n",
    "API_URL = \"https://laughing-eureka-x5pwqg4p4gq5fvpjp-5000.app.github.dev/predict\"\n",
    "\n",
    "# Conversation log\n",
    "conversation_log = []\n",
    "\n",
    "# Bot logic\n",
    "def chat_with_bot(user_message):\n",
    "    # Call the API for emotion prediction\n",
    "    response = requests.post(API_URL, json={\"sentences\": [user_message]})\n",
    "    emotion = response.json()[\"predictions\"][8]\n",
    "    conversation_log.append((user_message, emotion))\n",
    "    \n",
    "    # Respond based on emotion\n",
    "    if emotion == \"sad\":\n",
    "        bot_response = \"I'm sorry to hear that. Can I help you with something?\"\n",
    "    elif emotion == \"happy\":\n",
    "        bot_response = \"That's great to hear! 😊\"\n",
    "    elif emotion == \"angry\":\n",
    "        bot_response = \"I sense frustration. Would you like to share more?\"\n",
    "    elif emotion == \"neutral\":\n",
    "        bot_response = \"Got it. How can I assist you further?\"\n",
    "    else:\n",
    "        bot_response = \"Interesting! Tell me more.\"\n",
    "    \n",
    "    return bot_response, emotion\n",
    "\n",
    "# Start the chatbot\n",
    "while True:\n",
    "    user_input = input(\"You: \")\n",
    "    if user_input.lower() in ['exit', 'quit']:\n",
    "        print(\"Bot: Goodbye!\")\n",
    "        break\n",
    "    bot_reply, detected_emotion = chat_with_bot(user_input)\n",
    "    print(f\"Bot ({detected_emotion}): {bot_reply}\")\n"
   ]
  },
  {
   "cell_type": "code",
   "execution_count": null,
   "id": "0ef7df2f-52ed-41b5-a953-22fd843c0833",
   "metadata": {},
   "outputs": [],
   "source": [
    "from collections import Counter\n",
    "\n",
    "# Analyze conversation log\n",
    "emotions = [entry[1] for entry in conversation_log]\n",
    "emotion_counts = Counter(emotions)\n",
    "print(\"Emotion Analysis:\")\n",
    "for emotion, count in emotion_counts.items():\n",
    "    print(f\"{emotion}: {count}\")\n",
    "\n",
    "# If user is dissatisfied\n",
    "if emotion_counts.get(\"sad\", 0) > 2 or emotion_counts.get(\"angry\", 0) > 2:\n",
    "    feedback = input(\"Bot: I noticed some dissatisfaction. Do you have any suggestions for improvement? \")\n",
    "    with open(\"suggestions.txt\", \"a\") as file:\n",
    "        file.write(f\"{feedback}\\n\")\n",
    "    print(\"Bot: Thank you for your feedback!\")\n"
   ]
  },
  {
   "cell_type": "code",
   "execution_count": null,
   "id": "1f1b4063-7ab7-420f-884a-1fc2b8b7fa8d",
   "metadata": {},
   "outputs": [],
   "source": []
  }
 ],
 "metadata": {
  "kernelspec": {
   "display_name": "Python 3 (ipykernel)",
   "language": "python",
   "name": "python3"
  },
  "language_info": {
   "codemirror_mode": {
    "name": "ipython",
    "version": 3
   },
   "file_extension": ".py",
   "mimetype": "text/x-python",
   "name": "python",
   "nbconvert_exporter": "python",
   "pygments_lexer": "ipython3",
   "version": "3.12.4"
  }
 },
 "nbformat": 4,
 "nbformat_minor": 5
}
